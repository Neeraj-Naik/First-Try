{
 "cells": [
  {
   "cell_type": "code",
   "execution_count": 1,
   "metadata": {},
   "outputs": [],
   "source": [
    "from pyomo.environ import *\n",
    "import pandas as pd\n",
    "import plotly.graph_objects as go\n",
    "\n",
    "from math import comb\n",
    "import re"
   ]
  },
  {
   "cell_type": "code",
   "execution_count": 2,
   "metadata": {},
   "outputs": [
    {
     "data": {
      "text/html": [
       "<div>\n",
       "<style scoped>\n",
       "    .dataframe tbody tr th:only-of-type {\n",
       "        vertical-align: middle;\n",
       "    }\n",
       "\n",
       "    .dataframe tbody tr th {\n",
       "        vertical-align: top;\n",
       "    }\n",
       "\n",
       "    .dataframe thead th {\n",
       "        text-align: right;\n",
       "    }\n",
       "</style>\n",
       "<table border=\"1\" class=\"dataframe\">\n",
       "  <thead>\n",
       "    <tr style=\"text-align: right;\">\n",
       "      <th></th>\n",
       "      <th>Team</th>\n",
       "      <th>Wins</th>\n",
       "      <th>Atlanta</th>\n",
       "      <th>Philly</th>\n",
       "      <th>New York</th>\n",
       "      <th>Montreal</th>\n",
       "      <th>Rem</th>\n",
       "    </tr>\n",
       "  </thead>\n",
       "  <tbody>\n",
       "    <tr>\n",
       "      <th>0</th>\n",
       "      <td>Atlanta</td>\n",
       "      <td>83</td>\n",
       "      <td>-</td>\n",
       "      <td>1</td>\n",
       "      <td>6</td>\n",
       "      <td>1</td>\n",
       "      <td>8</td>\n",
       "    </tr>\n",
       "    <tr>\n",
       "      <th>1</th>\n",
       "      <td>Philly</td>\n",
       "      <td>80</td>\n",
       "      <td>1</td>\n",
       "      <td>-</td>\n",
       "      <td>0</td>\n",
       "      <td>2</td>\n",
       "      <td>3</td>\n",
       "    </tr>\n",
       "    <tr>\n",
       "      <th>2</th>\n",
       "      <td>New York</td>\n",
       "      <td>78</td>\n",
       "      <td>6</td>\n",
       "      <td>0</td>\n",
       "      <td>-</td>\n",
       "      <td>0</td>\n",
       "      <td>6</td>\n",
       "    </tr>\n",
       "    <tr>\n",
       "      <th>3</th>\n",
       "      <td>Montreal</td>\n",
       "      <td>77</td>\n",
       "      <td>1</td>\n",
       "      <td>2</td>\n",
       "      <td>0</td>\n",
       "      <td>-</td>\n",
       "      <td>3</td>\n",
       "    </tr>\n",
       "  </tbody>\n",
       "</table>\n",
       "</div>"
      ],
      "text/plain": [
       "       Team  Wins Atlanta Philly New York Montreal  Rem\n",
       "0   Atlanta    83       -      1        6        1    8\n",
       "1    Philly    80       1      -        0        2    3\n",
       "2  New York    78       6      0        -        0    6\n",
       "3  Montreal    77       1      2        0        -    3"
      ]
     },
     "execution_count": 2,
     "metadata": {},
     "output_type": "execute_result"
    }
   ],
   "source": [
    "## data \n",
    "\n",
    "data = pd.DataFrame({\n",
    "    'Team' : ['Atlanta','Philly','New York','Montreal'],\n",
    "    'Wins' : [83,80,78,77],\n",
    "    'Atlanta' : ['-',1,6,1],\n",
    "    'Philly' : [1,'-',0,2],\n",
    "    'New York' : [6,0,'-',0],\n",
    "    'Montreal' : [1,2,0,'-']\n",
    "})\n",
    "\n",
    "remaining = []\n",
    "\n",
    "for indx in range(data.shape[0]):\n",
    "    sum = 0\n",
    "    for col in data.columns[2:]:\n",
    "        val = data.loc[indx,col]\n",
    "        if val != '-':\n",
    "            sum += val\n",
    "    remaining.append(sum)\n",
    "\n",
    "data['Rem'] = remaining\n",
    "\n",
    "data"
   ]
  },
  {
   "cell_type": "code",
   "execution_count": 3,
   "metadata": {},
   "outputs": [
    {
     "name": "stdout",
     "output_type": "stream",
     "text": [
      "Analyzing tame Atlanta -> curr score 83, matches remaining 8 --> UB on points = 91\n"
     ]
    },
    {
     "data": {
      "text/html": [
       "<div>\n",
       "<style scoped>\n",
       "    .dataframe tbody tr th:only-of-type {\n",
       "        vertical-align: middle;\n",
       "    }\n",
       "\n",
       "    .dataframe tbody tr th {\n",
       "        vertical-align: top;\n",
       "    }\n",
       "\n",
       "    .dataframe thead th {\n",
       "        text-align: right;\n",
       "    }\n",
       "</style>\n",
       "<table border=\"1\" class=\"dataframe\">\n",
       "  <thead>\n",
       "    <tr style=\"text-align: right;\">\n",
       "      <th></th>\n",
       "      <th>Team</th>\n",
       "      <th>Wins</th>\n",
       "      <th>Philly</th>\n",
       "      <th>New York</th>\n",
       "      <th>Montreal</th>\n",
       "    </tr>\n",
       "  </thead>\n",
       "  <tbody>\n",
       "    <tr>\n",
       "      <th>0</th>\n",
       "      <td>Philly</td>\n",
       "      <td>80</td>\n",
       "      <td>-</td>\n",
       "      <td>0</td>\n",
       "      <td>2</td>\n",
       "    </tr>\n",
       "    <tr>\n",
       "      <th>1</th>\n",
       "      <td>New York</td>\n",
       "      <td>78</td>\n",
       "      <td>0</td>\n",
       "      <td>-</td>\n",
       "      <td>0</td>\n",
       "    </tr>\n",
       "    <tr>\n",
       "      <th>2</th>\n",
       "      <td>Montreal</td>\n",
       "      <td>77</td>\n",
       "      <td>2</td>\n",
       "      <td>0</td>\n",
       "      <td>-</td>\n",
       "    </tr>\n",
       "  </tbody>\n",
       "</table>\n",
       "</div>"
      ],
      "text/plain": [
       "       Team  Wins Philly New York Montreal\n",
       "0    Philly    80      -        0        2\n",
       "1  New York    78      0        -        0\n",
       "2  Montreal    77      2        0        -"
      ]
     },
     "execution_count": 3,
     "metadata": {},
     "output_type": "execute_result"
    }
   ],
   "source": [
    "analyseTeam = 'Atlanta'\n",
    "indx = list(data['Team']).index(analyseTeam)\n",
    "\n",
    "UBwins = data.loc[indx,'Rem'] + data.loc[indx,'Wins']\n",
    "\n",
    "print(f\"Analyzing tame {analyseTeam} -> curr score {data.loc[indx,'Wins']}, matches remaining {data.loc[indx,'Rem']} --> UB on points = {UBwins}\")\n",
    "\n",
    "data.drop(indx, inplace=True)\n",
    "data.drop([analyseTeam,'Rem'],axis=1, inplace=True)\n",
    "\n",
    "data.reset_index(inplace=True, drop=True)\n",
    "\n",
    "data"
   ]
  },
  {
   "cell_type": "code",
   "execution_count": 4,
   "metadata": {},
   "outputs": [
    {
     "data": {
      "text/plain": [
       "{'s': [('Philly-New York', 0),\n",
       "  ('Philly-Montreal', 2),\n",
       "  ('New York-Montreal', 0)],\n",
       " 'Philly-New York': ['Philly', 'New York'],\n",
       " 'Philly-Montreal': ['Philly', 'Montreal'],\n",
       " 'New York-Montreal': ['New York', 'Montreal'],\n",
       " 'Philly': ('t', 11),\n",
       " 'New York': ('t', 13),\n",
       " 'Montreal': ('t', 14)}"
      ]
     },
     "execution_count": 4,
     "metadata": {},
     "output_type": "execute_result"
    }
   ],
   "source": [
    "# Graph\n",
    "\n",
    "Graph = dict()\n",
    "\n",
    "# Source to matches  (weight -> matches remaining - r_ij)\n",
    "\n",
    "Graph.update({'s':[]})\n",
    "for t1 in range(data.shape[0]):\n",
    "    team1 = data.loc[t1,'Team']\n",
    "    for t2 in range(t1+1,data.shape[0]):\n",
    "         team2 = data.loc[t2,'Team']\n",
    "         Graph['s'].append((f'{team1}-{team2}',data.loc[t1,team2]))\n",
    "\n",
    "# matches to teams\n",
    "\n",
    "for match in Graph['s']:\n",
    "    Graph.update({match[0]:match[0].split('-')})\n",
    "\n",
    "# teams to sink\n",
    "\n",
    "for indx,team in enumerate(data['Team']):\n",
    "    Graph.update({team:('t',UBwins-data.loc[indx,'Wins'])})\n",
    "\n",
    "Graph"
   ]
  },
  {
   "cell_type": "code",
   "execution_count": 221,
   "metadata": {},
   "outputs": [
    {
     "name": "stdout",
     "output_type": "stream",
     "text": [
      "2 Set Declarations\n",
      "    MatchTeamSinkCons_index : Size=1, Index=None, Ordered=Insertion\n",
      "        Key  : Dimen : Domain : Size : Members\n",
      "        None :     1 :    Any :    3 : {1, 2, 3}\n",
      "    SrcMatchTeamCons_index : Size=1, Index=None, Ordered=Insertion\n",
      "        Key  : Dimen : Domain : Size : Members\n",
      "        None :     1 :    Any :    3 : {1, 2, 3}\n",
      "\n",
      "12 Var Declarations\n",
      "    Montreal > t : Size=1, Index=None\n",
      "        Key  : Lower : Value : Upper : Fixed : Stale : Domain\n",
      "        None :     0 :  None :    14 : False :  True : NonNegativeReals\n",
      "    New York > t : Size=1, Index=None\n",
      "        Key  : Lower : Value : Upper : Fixed : Stale : Domain\n",
      "        None :     0 :  None :    13 : False :  True : NonNegativeReals\n",
      "    New York-Montreal > Montreal : Size=1, Index=None\n",
      "        Key  : Lower : Value : Upper : Fixed : Stale : Domain\n",
      "        None :     0 :  None :  None : False :  True : NonNegativeReals\n",
      "    New York-Montreal > New York : Size=1, Index=None\n",
      "        Key  : Lower : Value : Upper : Fixed : Stale : Domain\n",
      "        None :     0 :  None :  None : False :  True : NonNegativeReals\n",
      "    Philly > t : Size=1, Index=None\n",
      "        Key  : Lower : Value : Upper : Fixed : Stale : Domain\n",
      "        None :     0 :  None :    11 : False :  True : NonNegativeReals\n",
      "    Philly-Montreal > Montreal : Size=1, Index=None\n",
      "        Key  : Lower : Value : Upper : Fixed : Stale : Domain\n",
      "        None :     0 :  None :  None : False :  True : NonNegativeReals\n",
      "    Philly-Montreal > Philly : Size=1, Index=None\n",
      "        Key  : Lower : Value : Upper : Fixed : Stale : Domain\n",
      "        None :     0 :  None :  None : False :  True : NonNegativeReals\n",
      "    Philly-New York > New York : Size=1, Index=None\n",
      "        Key  : Lower : Value : Upper : Fixed : Stale : Domain\n",
      "        None :     0 :  None :  None : False :  True : NonNegativeReals\n",
      "    Philly-New York > Philly : Size=1, Index=None\n",
      "        Key  : Lower : Value : Upper : Fixed : Stale : Domain\n",
      "        None :     0 :  None :  None : False :  True : NonNegativeReals\n",
      "    s > New York-Montreal : Size=1, Index=None\n",
      "        Key  : Lower : Value : Upper : Fixed : Stale : Domain\n",
      "        None :     0 :  None :     0 : False :  True : NonNegativeReals\n",
      "    s > Philly-Montreal : Size=1, Index=None\n",
      "        Key  : Lower : Value : Upper : Fixed : Stale : Domain\n",
      "        None :     0 :  None :     2 : False :  True : NonNegativeReals\n",
      "    s > Philly-New York : Size=1, Index=None\n",
      "        Key  : Lower : Value : Upper : Fixed : Stale : Domain\n",
      "        None :     0 :  None :     0 : False :  True : NonNegativeReals\n",
      "\n",
      "1 Objective Declarations\n",
      "    Obj : Size=1, Index=None, Active=True\n",
      "        Key  : Active : Sense    : Expression\n",
      "        None :   True : maximize : s > Philly-New York + s > Philly-Montreal + s > New York-Montreal\n",
      "\n",
      "2 Constraint Declarations\n",
      "    MatchTeamSinkCons : Size=3, Index=MatchTeamSinkCons_index, Active=True\n",
      "        Key : Lower : Body                                                                     : Upper : Active\n",
      "          1 :   0.0 :         Philly-New York > Philly + Philly-Montreal > Philly - Philly > t :   0.0 :   True\n",
      "          2 :   0.0 : Philly-New York > New York + New York-Montreal > New York - New York > t :   0.0 :   True\n",
      "          3 :   0.0 : Philly-Montreal > Montreal + New York-Montreal > Montreal - Montreal > t :   0.0 :   True\n",
      "    SrcMatchTeamCons : Size=3, Index=SrcMatchTeamCons_index, Active=True\n",
      "        Key : Lower : Body                                                                                  : Upper : Active\n",
      "          1 :   0.0 :         s > Philly-New York - (Philly-New York > Philly + Philly-New York > New York) :   0.0 :   True\n",
      "          2 :   0.0 :         s > Philly-Montreal - (Philly-Montreal > Philly + Philly-Montreal > Montreal) :   0.0 :   True\n",
      "          3 :   0.0 : s > New York-Montreal - (New York-Montreal > New York + New York-Montreal > Montreal) :   0.0 :   True\n",
      "\n",
      "17 Declarations: s > Philly-New York s > Philly-Montreal s > New York-Montreal Philly-New York > Philly Philly-New York > New York Philly-Montreal > Philly Philly-Montreal > Montreal New York-Montreal > New York New York-Montreal > Montreal Philly > t New York > t Montreal > t Obj SrcMatchTeamCons_index SrcMatchTeamCons MatchTeamSinkCons_index MatchTeamSinkCons\n"
     ]
    }
   ],
   "source": [
    "model = ConcreteModel()\n",
    "\n",
    "src_match_vars = []\n",
    "for matches in Graph['s']:\n",
    "    model.add_component(f's > {matches[0]}',Var(domain=NonNegativeReals, bounds=(0,matches[1])))\n",
    "    src_match_vars.append(model.component(f's > {matches[0]}'))\n",
    "\n",
    "match_team_vars = []\n",
    "for node in Graph.keys():\n",
    "    if node.find('-') != -1:\n",
    "        for team in Graph[node]:\n",
    "            model.add_component(f'{node} > {team}',Var(domain=NonNegativeReals))\n",
    "            match_team_vars.append(model.component(f'{node} > {team}'))\n",
    "\n",
    "team_snk_vars = []\n",
    "for node in Graph.keys():\n",
    "    if node != 's' and node.find('-') == -1:\n",
    "        model.add_component(f'{node} > t',Var(domain=NonNegativeReals, bounds=(0,Graph[node][1])))\n",
    "        team_snk_vars.append(model.component(f'{node} > t'))\n",
    "\n",
    "# objective Max flow\n",
    "\n",
    "sum = 0\n",
    "for var in src_match_vars:\n",
    "    sum += var\n",
    "\n",
    "model.Obj = Objective(expr = sum, sense=maximize)\n",
    "\n",
    "\n",
    "# flow src-match-team cons\n",
    "\n",
    "model.SrcMatchTeamCons = ConstraintList()\n",
    "\n",
    "for src_mch_var in src_match_vars:\n",
    "    mch = src_mch_var.getname().split(' > ')[1]\n",
    "    sum = 0\n",
    "    for mch_team_var in match_team_vars:\n",
    "        if re.match(mch,mch_team_var.getname()):\n",
    "            sum += mch_team_var\n",
    "    model.SrcMatchTeamCons.add(expr = src_mch_var == sum)\n",
    "\n",
    "# flow match-team-sink cons\n",
    "\n",
    "model.MatchTeamSinkCons = ConstraintList()\n",
    "\n",
    "for tm_snk_var in team_snk_vars:\n",
    "    tm = tm_snk_var.getname().split(' > ')[0]\n",
    "    sum = 0\n",
    "    for mth_tm_var in match_team_vars:\n",
    "        if mth_tm_var.getname().split(' > ')[1] == tm:\n",
    "            sum += mth_tm_var\n",
    "    model.MatchTeamSinkCons.add(expr = sum == tm_snk_var)\n",
    "\n",
    "model.pprint()"
   ]
  },
  {
   "cell_type": "code",
   "execution_count": 222,
   "metadata": {},
   "outputs": [
    {
     "name": "stdout",
     "output_type": "stream",
     "text": [
      "# ==========================================================\n",
      "# = Solver Results                                         =\n",
      "# ==========================================================\n",
      "# ----------------------------------------------------------\n",
      "#   Problem Information\n",
      "# ----------------------------------------------------------\n",
      "Problem: \n",
      "- Lower bound: -inf\n",
      "  Upper bound: inf\n",
      "  Number of objectives: 1\n",
      "  Number of constraints: 0\n",
      "  Number of variables: 12\n",
      "  Sense: unknown\n",
      "# ----------------------------------------------------------\n",
      "#   Solver Information\n",
      "# ----------------------------------------------------------\n",
      "Solver: \n",
      "- Status: ok\n",
      "  Message: \n",
      "  Termination condition: optimal\n",
      "  Id: 0\n",
      "  Error rc: 0\n",
      "  Time: 0.005051374435424805\n",
      "# ----------------------------------------------------------\n",
      "#   Solution Information\n",
      "# ----------------------------------------------------------\n",
      "Solution: \n",
      "- number of solutions: 0\n",
      "  number of solutions displayed: 0\n"
     ]
    }
   ],
   "source": [
    "minotaur = SolverFactory(\"mbnb\", executable='../CHL_Grouping/mbin/mbnb')\n",
    "res = minotaur.solve(model)\n",
    "res.write()"
   ]
  },
  {
   "cell_type": "code",
   "execution_count": 223,
   "metadata": {},
   "outputs": [
    {
     "name": "stdout",
     "output_type": "stream",
     "text": [
      "max flow : 2.0\n",
      "Bound on source flow 2\n",
      "Saturated Flow\n"
     ]
    }
   ],
   "source": [
    "if res.Solver.termination_condition == TerminationCondition.infeasible:\n",
    "    print('Infeasible')\n",
    "else:\n",
    "    print(f'max flow : {model.Obj()}')\n",
    "\n",
    "sum = 0\n",
    "for arc in Graph['s']:\n",
    "    sum += arc[1]\n",
    "\n",
    "print(f'Bound on source flow {sum}')\n",
    "\n",
    "if model.Obj() == sum:\n",
    "    print('Saturated Flow')"
   ]
  },
  {
   "cell_type": "code",
   "execution_count": 224,
   "metadata": {},
   "outputs": [
    {
     "data": {
      "application/vnd.plotly.v1+json": {
       "config": {
        "plotlyServerURL": "https://plot.ly"
       },
       "data": [
        {
         "marker": {
          "color": "gray",
          "line": {
           "width": 2
          },
          "size": 20
         },
         "mode": "markers",
         "opacity": 0.8,
         "showlegend": false,
         "type": "scatter",
         "x": [
          1
         ],
         "y": [
          8
         ]
        },
        {
         "marker": {
          "line": {
           "width": 2
          },
          "size": 20
         },
         "mode": "markers",
         "opacity": 0.5,
         "showlegend": false,
         "type": "scatter",
         "x": [
          2
         ],
         "y": [
          1
         ]
        },
        {
         "marker": {
          "line": {
           "width": 2
          },
          "size": 20
         },
         "mode": "markers",
         "opacity": 0.5,
         "showlegend": false,
         "type": "scatter",
         "x": [
          2
         ],
         "y": [
          2
         ]
        },
        {
         "marker": {
          "line": {
           "width": 2
          },
          "size": 20
         },
         "mode": "markers",
         "opacity": 0.5,
         "showlegend": false,
         "type": "scatter",
         "x": [
          2
         ],
         "y": [
          3
         ]
        },
        {
         "marker": {
          "line": {
           "width": 2
          },
          "size": 20
         },
         "mode": "markers",
         "opacity": 0.5,
         "showlegend": false,
         "type": "scatter",
         "x": [
          2
         ],
         "y": [
          4
         ]
        },
        {
         "marker": {
          "line": {
           "width": 2
          },
          "size": 20
         },
         "mode": "markers",
         "opacity": 0.5,
         "showlegend": false,
         "type": "scatter",
         "x": [
          2
         ],
         "y": [
          5
         ]
        },
        {
         "marker": {
          "line": {
           "width": 2
          },
          "size": 20
         },
         "mode": "markers",
         "opacity": 0.5,
         "showlegend": false,
         "type": "scatter",
         "x": [
          2
         ],
         "y": [
          6
         ]
        },
        {
         "marker": {
          "line": {
           "width": 2
          },
          "size": 20
         },
         "mode": "markers",
         "opacity": 0.5,
         "showlegend": false,
         "type": "scatter",
         "x": [
          2
         ],
         "y": [
          7
         ]
        },
        {
         "marker": {
          "line": {
           "width": 2
          },
          "size": 20
         },
         "mode": "markers",
         "opacity": 0.5,
         "showlegend": false,
         "type": "scatter",
         "x": [
          2
         ],
         "y": [
          8
         ]
        },
        {
         "marker": {
          "line": {
           "width": 2
          },
          "size": 20
         },
         "mode": "markers",
         "opacity": 0.5,
         "showlegend": false,
         "type": "scatter",
         "x": [
          2
         ],
         "y": [
          9
         ]
        },
        {
         "marker": {
          "line": {
           "width": 2
          },
          "size": 20
         },
         "mode": "markers",
         "opacity": 0.5,
         "showlegend": false,
         "type": "scatter",
         "x": [
          2
         ],
         "y": [
          10
         ]
        },
        {
         "marker": {
          "line": {
           "width": 2
          },
          "size": 20
         },
         "mode": "markers",
         "opacity": 0.5,
         "showlegend": false,
         "type": "scatter",
         "x": [
          2
         ],
         "y": [
          11
         ]
        },
        {
         "marker": {
          "line": {
           "width": 2
          },
          "size": 20
         },
         "mode": "markers",
         "opacity": 0.5,
         "showlegend": false,
         "type": "scatter",
         "x": [
          2
         ],
         "y": [
          12
         ]
        },
        {
         "marker": {
          "line": {
           "width": 2
          },
          "size": 20
         },
         "mode": "markers",
         "opacity": 0.5,
         "showlegend": false,
         "type": "scatter",
         "x": [
          2
         ],
         "y": [
          13
         ]
        },
        {
         "marker": {
          "line": {
           "width": 2
          },
          "size": 20
         },
         "mode": "markers",
         "opacity": 0.5,
         "showlegend": false,
         "type": "scatter",
         "x": [
          2
         ],
         "y": [
          14
         ]
        },
        {
         "marker": {
          "line": {
           "width": 2
          },
          "size": 20
         },
         "mode": "markers",
         "opacity": 0.5,
         "showlegend": false,
         "type": "scatter",
         "x": [
          2
         ],
         "y": [
          15
         ]
        },
        {
         "marker": {
          "line": {
           "width": 2
          },
          "size": 20
         },
         "mode": "markers",
         "opacity": 0.5,
         "showlegend": false,
         "type": "scatter",
         "x": [
          3
         ],
         "y": [
          5.5
         ]
        },
        {
         "marker": {
          "line": {
           "width": 2
          },
          "size": 20
         },
         "mode": "markers",
         "opacity": 0.5,
         "showlegend": false,
         "type": "scatter",
         "x": [
          3
         ],
         "y": [
          6.5
         ]
        },
        {
         "marker": {
          "line": {
           "width": 2
          },
          "size": 20
         },
         "mode": "markers",
         "opacity": 0.5,
         "showlegend": false,
         "type": "scatter",
         "x": [
          3
         ],
         "y": [
          7.5
         ]
        },
        {
         "marker": {
          "line": {
           "width": 2
          },
          "size": 20
         },
         "mode": "markers",
         "opacity": 0.5,
         "showlegend": false,
         "type": "scatter",
         "x": [
          3
         ],
         "y": [
          8.5
         ]
        },
        {
         "marker": {
          "line": {
           "width": 2
          },
          "size": 20
         },
         "mode": "markers",
         "opacity": 0.5,
         "showlegend": false,
         "type": "scatter",
         "x": [
          3
         ],
         "y": [
          9.5
         ]
        },
        {
         "marker": {
          "line": {
           "width": 2
          },
          "size": 20
         },
         "mode": "markers",
         "opacity": 0.5,
         "showlegend": false,
         "type": "scatter",
         "x": [
          3
         ],
         "y": [
          10.5
         ]
        },
        {
         "marker": {
          "color": "gray",
          "line": {
           "width": 2
          },
          "size": 20
         },
         "mode": "markers",
         "opacity": 0.8,
         "showlegend": false,
         "type": "scatter",
         "x": [
          4
         ],
         "y": [
          8
         ]
        }
       ],
       "layout": {
        "height": 900,
        "template": {
         "data": {
          "bar": [
           {
            "error_x": {
             "color": "#2a3f5f"
            },
            "error_y": {
             "color": "#2a3f5f"
            },
            "marker": {
             "line": {
              "color": "#E5ECF6",
              "width": 0.5
             },
             "pattern": {
              "fillmode": "overlay",
              "size": 10,
              "solidity": 0.2
             }
            },
            "type": "bar"
           }
          ],
          "barpolar": [
           {
            "marker": {
             "line": {
              "color": "#E5ECF6",
              "width": 0.5
             },
             "pattern": {
              "fillmode": "overlay",
              "size": 10,
              "solidity": 0.2
             }
            },
            "type": "barpolar"
           }
          ],
          "carpet": [
           {
            "aaxis": {
             "endlinecolor": "#2a3f5f",
             "gridcolor": "white",
             "linecolor": "white",
             "minorgridcolor": "white",
             "startlinecolor": "#2a3f5f"
            },
            "baxis": {
             "endlinecolor": "#2a3f5f",
             "gridcolor": "white",
             "linecolor": "white",
             "minorgridcolor": "white",
             "startlinecolor": "#2a3f5f"
            },
            "type": "carpet"
           }
          ],
          "choropleth": [
           {
            "colorbar": {
             "outlinewidth": 0,
             "ticks": ""
            },
            "type": "choropleth"
           }
          ],
          "contour": [
           {
            "colorbar": {
             "outlinewidth": 0,
             "ticks": ""
            },
            "colorscale": [
             [
              0,
              "#0d0887"
             ],
             [
              0.1111111111111111,
              "#46039f"
             ],
             [
              0.2222222222222222,
              "#7201a8"
             ],
             [
              0.3333333333333333,
              "#9c179e"
             ],
             [
              0.4444444444444444,
              "#bd3786"
             ],
             [
              0.5555555555555556,
              "#d8576b"
             ],
             [
              0.6666666666666666,
              "#ed7953"
             ],
             [
              0.7777777777777778,
              "#fb9f3a"
             ],
             [
              0.8888888888888888,
              "#fdca26"
             ],
             [
              1,
              "#f0f921"
             ]
            ],
            "type": "contour"
           }
          ],
          "contourcarpet": [
           {
            "colorbar": {
             "outlinewidth": 0,
             "ticks": ""
            },
            "type": "contourcarpet"
           }
          ],
          "heatmap": [
           {
            "colorbar": {
             "outlinewidth": 0,
             "ticks": ""
            },
            "colorscale": [
             [
              0,
              "#0d0887"
             ],
             [
              0.1111111111111111,
              "#46039f"
             ],
             [
              0.2222222222222222,
              "#7201a8"
             ],
             [
              0.3333333333333333,
              "#9c179e"
             ],
             [
              0.4444444444444444,
              "#bd3786"
             ],
             [
              0.5555555555555556,
              "#d8576b"
             ],
             [
              0.6666666666666666,
              "#ed7953"
             ],
             [
              0.7777777777777778,
              "#fb9f3a"
             ],
             [
              0.8888888888888888,
              "#fdca26"
             ],
             [
              1,
              "#f0f921"
             ]
            ],
            "type": "heatmap"
           }
          ],
          "heatmapgl": [
           {
            "colorbar": {
             "outlinewidth": 0,
             "ticks": ""
            },
            "colorscale": [
             [
              0,
              "#0d0887"
             ],
             [
              0.1111111111111111,
              "#46039f"
             ],
             [
              0.2222222222222222,
              "#7201a8"
             ],
             [
              0.3333333333333333,
              "#9c179e"
             ],
             [
              0.4444444444444444,
              "#bd3786"
             ],
             [
              0.5555555555555556,
              "#d8576b"
             ],
             [
              0.6666666666666666,
              "#ed7953"
             ],
             [
              0.7777777777777778,
              "#fb9f3a"
             ],
             [
              0.8888888888888888,
              "#fdca26"
             ],
             [
              1,
              "#f0f921"
             ]
            ],
            "type": "heatmapgl"
           }
          ],
          "histogram": [
           {
            "marker": {
             "pattern": {
              "fillmode": "overlay",
              "size": 10,
              "solidity": 0.2
             }
            },
            "type": "histogram"
           }
          ],
          "histogram2d": [
           {
            "colorbar": {
             "outlinewidth": 0,
             "ticks": ""
            },
            "colorscale": [
             [
              0,
              "#0d0887"
             ],
             [
              0.1111111111111111,
              "#46039f"
             ],
             [
              0.2222222222222222,
              "#7201a8"
             ],
             [
              0.3333333333333333,
              "#9c179e"
             ],
             [
              0.4444444444444444,
              "#bd3786"
             ],
             [
              0.5555555555555556,
              "#d8576b"
             ],
             [
              0.6666666666666666,
              "#ed7953"
             ],
             [
              0.7777777777777778,
              "#fb9f3a"
             ],
             [
              0.8888888888888888,
              "#fdca26"
             ],
             [
              1,
              "#f0f921"
             ]
            ],
            "type": "histogram2d"
           }
          ],
          "histogram2dcontour": [
           {
            "colorbar": {
             "outlinewidth": 0,
             "ticks": ""
            },
            "colorscale": [
             [
              0,
              "#0d0887"
             ],
             [
              0.1111111111111111,
              "#46039f"
             ],
             [
              0.2222222222222222,
              "#7201a8"
             ],
             [
              0.3333333333333333,
              "#9c179e"
             ],
             [
              0.4444444444444444,
              "#bd3786"
             ],
             [
              0.5555555555555556,
              "#d8576b"
             ],
             [
              0.6666666666666666,
              "#ed7953"
             ],
             [
              0.7777777777777778,
              "#fb9f3a"
             ],
             [
              0.8888888888888888,
              "#fdca26"
             ],
             [
              1,
              "#f0f921"
             ]
            ],
            "type": "histogram2dcontour"
           }
          ],
          "mesh3d": [
           {
            "colorbar": {
             "outlinewidth": 0,
             "ticks": ""
            },
            "type": "mesh3d"
           }
          ],
          "parcoords": [
           {
            "line": {
             "colorbar": {
              "outlinewidth": 0,
              "ticks": ""
             }
            },
            "type": "parcoords"
           }
          ],
          "pie": [
           {
            "automargin": true,
            "type": "pie"
           }
          ],
          "scatter": [
           {
            "fillpattern": {
             "fillmode": "overlay",
             "size": 10,
             "solidity": 0.2
            },
            "type": "scatter"
           }
          ],
          "scatter3d": [
           {
            "line": {
             "colorbar": {
              "outlinewidth": 0,
              "ticks": ""
             }
            },
            "marker": {
             "colorbar": {
              "outlinewidth": 0,
              "ticks": ""
             }
            },
            "type": "scatter3d"
           }
          ],
          "scattercarpet": [
           {
            "marker": {
             "colorbar": {
              "outlinewidth": 0,
              "ticks": ""
             }
            },
            "type": "scattercarpet"
           }
          ],
          "scattergeo": [
           {
            "marker": {
             "colorbar": {
              "outlinewidth": 0,
              "ticks": ""
             }
            },
            "type": "scattergeo"
           }
          ],
          "scattergl": [
           {
            "marker": {
             "colorbar": {
              "outlinewidth": 0,
              "ticks": ""
             }
            },
            "type": "scattergl"
           }
          ],
          "scattermapbox": [
           {
            "marker": {
             "colorbar": {
              "outlinewidth": 0,
              "ticks": ""
             }
            },
            "type": "scattermapbox"
           }
          ],
          "scatterpolar": [
           {
            "marker": {
             "colorbar": {
              "outlinewidth": 0,
              "ticks": ""
             }
            },
            "type": "scatterpolar"
           }
          ],
          "scatterpolargl": [
           {
            "marker": {
             "colorbar": {
              "outlinewidth": 0,
              "ticks": ""
             }
            },
            "type": "scatterpolargl"
           }
          ],
          "scatterternary": [
           {
            "marker": {
             "colorbar": {
              "outlinewidth": 0,
              "ticks": ""
             }
            },
            "type": "scatterternary"
           }
          ],
          "surface": [
           {
            "colorbar": {
             "outlinewidth": 0,
             "ticks": ""
            },
            "colorscale": [
             [
              0,
              "#0d0887"
             ],
             [
              0.1111111111111111,
              "#46039f"
             ],
             [
              0.2222222222222222,
              "#7201a8"
             ],
             [
              0.3333333333333333,
              "#9c179e"
             ],
             [
              0.4444444444444444,
              "#bd3786"
             ],
             [
              0.5555555555555556,
              "#d8576b"
             ],
             [
              0.6666666666666666,
              "#ed7953"
             ],
             [
              0.7777777777777778,
              "#fb9f3a"
             ],
             [
              0.8888888888888888,
              "#fdca26"
             ],
             [
              1,
              "#f0f921"
             ]
            ],
            "type": "surface"
           }
          ],
          "table": [
           {
            "cells": {
             "fill": {
              "color": "#EBF0F8"
             },
             "line": {
              "color": "white"
             }
            },
            "header": {
             "fill": {
              "color": "#C8D4E3"
             },
             "line": {
              "color": "white"
             }
            },
            "type": "table"
           }
          ]
         },
         "layout": {
          "annotationdefaults": {
           "arrowcolor": "#2a3f5f",
           "arrowhead": 0,
           "arrowwidth": 1
          },
          "autotypenumbers": "strict",
          "coloraxis": {
           "colorbar": {
            "outlinewidth": 0,
            "ticks": ""
           }
          },
          "colorscale": {
           "diverging": [
            [
             0,
             "#8e0152"
            ],
            [
             0.1,
             "#c51b7d"
            ],
            [
             0.2,
             "#de77ae"
            ],
            [
             0.3,
             "#f1b6da"
            ],
            [
             0.4,
             "#fde0ef"
            ],
            [
             0.5,
             "#f7f7f7"
            ],
            [
             0.6,
             "#e6f5d0"
            ],
            [
             0.7,
             "#b8e186"
            ],
            [
             0.8,
             "#7fbc41"
            ],
            [
             0.9,
             "#4d9221"
            ],
            [
             1,
             "#276419"
            ]
           ],
           "sequential": [
            [
             0,
             "#0d0887"
            ],
            [
             0.1111111111111111,
             "#46039f"
            ],
            [
             0.2222222222222222,
             "#7201a8"
            ],
            [
             0.3333333333333333,
             "#9c179e"
            ],
            [
             0.4444444444444444,
             "#bd3786"
            ],
            [
             0.5555555555555556,
             "#d8576b"
            ],
            [
             0.6666666666666666,
             "#ed7953"
            ],
            [
             0.7777777777777778,
             "#fb9f3a"
            ],
            [
             0.8888888888888888,
             "#fdca26"
            ],
            [
             1,
             "#f0f921"
            ]
           ],
           "sequentialminus": [
            [
             0,
             "#0d0887"
            ],
            [
             0.1111111111111111,
             "#46039f"
            ],
            [
             0.2222222222222222,
             "#7201a8"
            ],
            [
             0.3333333333333333,
             "#9c179e"
            ],
            [
             0.4444444444444444,
             "#bd3786"
            ],
            [
             0.5555555555555556,
             "#d8576b"
            ],
            [
             0.6666666666666666,
             "#ed7953"
            ],
            [
             0.7777777777777778,
             "#fb9f3a"
            ],
            [
             0.8888888888888888,
             "#fdca26"
            ],
            [
             1,
             "#f0f921"
            ]
           ]
          },
          "colorway": [
           "#636efa",
           "#EF553B",
           "#00cc96",
           "#ab63fa",
           "#FFA15A",
           "#19d3f3",
           "#FF6692",
           "#B6E880",
           "#FF97FF",
           "#FECB52"
          ],
          "font": {
           "color": "#2a3f5f"
          },
          "geo": {
           "bgcolor": "white",
           "lakecolor": "white",
           "landcolor": "#E5ECF6",
           "showlakes": true,
           "showland": true,
           "subunitcolor": "white"
          },
          "hoverlabel": {
           "align": "left"
          },
          "hovermode": "closest",
          "mapbox": {
           "style": "light"
          },
          "paper_bgcolor": "white",
          "plot_bgcolor": "#E5ECF6",
          "polar": {
           "angularaxis": {
            "gridcolor": "white",
            "linecolor": "white",
            "ticks": ""
           },
           "bgcolor": "#E5ECF6",
           "radialaxis": {
            "gridcolor": "white",
            "linecolor": "white",
            "ticks": ""
           }
          },
          "scene": {
           "xaxis": {
            "backgroundcolor": "#E5ECF6",
            "gridcolor": "white",
            "gridwidth": 2,
            "linecolor": "white",
            "showbackground": true,
            "ticks": "",
            "zerolinecolor": "white"
           },
           "yaxis": {
            "backgroundcolor": "#E5ECF6",
            "gridcolor": "white",
            "gridwidth": 2,
            "linecolor": "white",
            "showbackground": true,
            "ticks": "",
            "zerolinecolor": "white"
           },
           "zaxis": {
            "backgroundcolor": "#E5ECF6",
            "gridcolor": "white",
            "gridwidth": 2,
            "linecolor": "white",
            "showbackground": true,
            "ticks": "",
            "zerolinecolor": "white"
           }
          },
          "shapedefaults": {
           "line": {
            "color": "#2a3f5f"
           }
          },
          "ternary": {
           "aaxis": {
            "gridcolor": "white",
            "linecolor": "white",
            "ticks": ""
           },
           "baxis": {
            "gridcolor": "white",
            "linecolor": "white",
            "ticks": ""
           },
           "bgcolor": "#E5ECF6",
           "caxis": {
            "gridcolor": "white",
            "linecolor": "white",
            "ticks": ""
           }
          },
          "title": {
           "x": 0.05
          },
          "xaxis": {
           "automargin": true,
           "gridcolor": "white",
           "linecolor": "white",
           "ticks": "",
           "title": {
            "standoff": 15
           },
           "zerolinecolor": "white",
           "zerolinewidth": 2
          },
          "yaxis": {
           "automargin": true,
           "gridcolor": "white",
           "linecolor": "white",
           "ticks": "",
           "title": {
            "standoff": 15
           },
           "zerolinecolor": "white",
           "zerolinewidth": 2
          }
         }
        },
        "width": 1000
       }
      }
     },
     "metadata": {},
     "output_type": "display_data"
    }
   ],
   "source": [
    "N = 6                         # number of teams\n",
    "\n",
    "fig = go.Figure()\n",
    "\n",
    "fig.update_layout(\n",
    "    height = 900,\n",
    "    width = 1000\n",
    ")\n",
    "\n",
    "# source \n",
    "\n",
    "fig.add_trace(go.Scatter(x=[1], y=[(comb(N,2)+1)/2], mode='markers' ,marker=dict(size=20, color='gray', line=dict(width = 2)), opacity=0.8, showlegend=False))\n",
    "\n",
    "# team matches\n",
    "\n",
    "yval = 1\n",
    "for t1 in range(N):\n",
    "    for t2 in range(t1+1,N):\n",
    "        fig.add_trace(go.Scatter(x=[2],y=[yval], mode='markers' ,marker=dict(size=20, line=dict(width = 2)), opacity=0.5, showlegend=False))\n",
    "        yval += 1\n",
    "\n",
    "# teams\n",
    "\n",
    "yval = (comb(N,2)+1)/2 - (N-1)/2\n",
    "for t1 in range(N):\n",
    "    fig.add_trace(go.Scatter(x=[3],y=[yval], mode='markers' ,marker=dict(size=20, line=dict(width = 2)), opacity=0.5, showlegend=False))\n",
    "    yval += 1\n",
    "\n",
    "\n",
    "# sink\n",
    "\n",
    "fig.add_trace(go.Scatter(x=[4], y=[(comb(N,2)+1)/2], mode='markers' ,marker=dict(size=20, color='gray', line=dict(width = 2)), opacity=0.8, showlegend=False))\n",
    "\n",
    "fig.show()"
   ]
  }
 ],
 "metadata": {
  "kernelspec": {
   "display_name": "Python 3",
   "language": "python",
   "name": "python3"
  },
  "language_info": {
   "codemirror_mode": {
    "name": "ipython",
    "version": 3
   },
   "file_extension": ".py",
   "mimetype": "text/x-python",
   "name": "python",
   "nbconvert_exporter": "python",
   "pygments_lexer": "ipython3",
   "version": "3.10.12"
  }
 },
 "nbformat": 4,
 "nbformat_minor": 2
}
